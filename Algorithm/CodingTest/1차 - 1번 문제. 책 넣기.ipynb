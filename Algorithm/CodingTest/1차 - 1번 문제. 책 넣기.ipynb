{
 "cells": [
  {
   "cell_type": "markdown",
   "id": "tutorial-command",
   "metadata": {},
   "source": [
    "# 1차 - 1번 문제. 책 넣기"
   ]
  },
  {
   "cell_type": "markdown",
   "id": "excess-organizer",
   "metadata": {},
   "source": [
    "## 문제\n",
    "- 당신은 상자에 책을 넣고 있는데, 상자의 무게 제한을 넘지 않고 최대한 많이 넣어야 함\n",
    "- 한 상자에 최대한 책을 많이 넣은 다음, 상자를 닫고 봉인한 후, 다음 상자에 책을 넣을 수 있음\n",
    "- 책은 차곡차곡 쌓여있는데, 무조건 가장 위에서부터 책을 꺼내야 함\n",
    "- 책들의 무게는 weights로써 주어짐\n",
    "- 이 배열의 첫 번째 요소가 쌓여있는 책 중에서 가장 위에 있는 책이고, 배열의 마지막 요소가 가장 밑에 있는 책\n",
    "- 상자에 담을 수 있는 최대 무게는 maxWeight로 주어짐\n",
    "- 책을 전부 담기 위한 상자의 최소 개수 구하기"
   ]
  },
  {
   "cell_type": "code",
   "execution_count": 1,
   "id": "quantitative-latino",
   "metadata": {},
   "outputs": [],
   "source": [
    "class Solution:\n",
    "    def solution(self, weights, maxWeight):\n",
    "        self.weights = weights\n",
    "        self.maxWeight = maxWeight\n",
    "        \n",
    "        box = []\n",
    "        sum = 0\n",
    "        \n",
    "        for i, v in enumerate(self.weights):\n",
    "            if sum < self.maxWeight:\n",
    "                sum += v\n",
    "                if i < len(self.weights) -1:\n",
    "                    if self.weights[i + 1] + sum > self.maxWeight:\n",
    "                        box.append(sum)\n",
    "                else:\n",
    "                    box.append(sum)\n",
    "        return len(box)"
   ]
  },
  {
   "cell_type": "markdown",
   "id": "stone-above",
   "metadata": {},
   "source": [
    "# 적용된 함수 정리"
   ]
  },
  {
   "cell_type": "markdown",
   "id": "sharing-navigator",
   "metadata": {},
   "source": [
    "## 1. enumrate 함수\n",
    "- [참고](https://wikidocs.net/20792)\n",
    "- enumerate는 '열거하다'라는 뜻 가지고 있음\n",
    "- 리스트가 있는 경우, 순서와 리스트의 값을 전달하는 기능을 가짐\n",
    "- 이 함수는 순서가 있는 자료형(list, set, tuple,dictionary, string)을 입력으로 받아 인덱스 값을 포함하는 enumuerate 객체를 리턴\n",
    "- 보통 enumerate 함수는 for문과 함께 자주 사용됨"
   ]
  },
  {
   "cell_type": "code",
   "execution_count": 2,
   "id": "innovative-sister",
   "metadata": {},
   "outputs": [
    {
     "name": "stdout",
     "output_type": "stream",
     "text": [
      "<enumerate object at 0x7f51e03721e0> <class 'enumerate'>\n"
     ]
    }
   ],
   "source": [
    "# enumerate 함수\n",
    "data = enumerate((1, 2, 3))\n",
    "print(data, type(data))"
   ]
  },
  {
   "cell_type": "code",
   "execution_count": 3,
   "id": "formed-persian",
   "metadata": {},
   "outputs": [
    {
     "name": "stdout",
     "output_type": "stream",
     "text": [
      "0 : 1\n",
      "1 : 2\n",
      "2 : 3\n",
      "\n"
     ]
    }
   ],
   "source": [
    "for i, value in data:\n",
    "    print(i, \":\", value)\n",
    "print()"
   ]
  },
  {
   "cell_type": "code",
   "execution_count": 4,
   "id": "sustained-portugal",
   "metadata": {},
   "outputs": [
    {
     "name": "stdout",
     "output_type": "stream",
     "text": [
      "0 : 1\n",
      "1 : 2\n",
      "2 : 3\n",
      "\n"
     ]
    }
   ],
   "source": [
    "data = enumerate({1, 2, 3})\n",
    "for i, value in data:\n",
    "    print(i, \":\", value)\n",
    "print()"
   ]
  },
  {
   "cell_type": "code",
   "execution_count": 6,
   "id": "exciting-search",
   "metadata": {},
   "outputs": [
    {
     "name": "stdout",
     "output_type": "stream",
     "text": [
      "0 : 1\n",
      "1 : 2\n",
      "2 : 3\n",
      "\n"
     ]
    }
   ],
   "source": [
    "data = enumerate([1, 2, 3])\n",
    "for i, value in data:\n",
    "    print(i, \":\", value)\n",
    "print()"
   ]
  },
  {
   "cell_type": "code",
   "execution_count": 9,
   "id": "figured-union",
   "metadata": {},
   "outputs": [
    {
     "name": "stdout",
     "output_type": "stream",
     "text": [
      "0 : 이름 , 한사람\n",
      "1 : 나이 , 33\n",
      "\n"
     ]
    }
   ],
   "source": [
    "dict1 = {\"이름\":\"한사람\", '나이':33}\n",
    "data = enumerate(dict1)\n",
    "for i, key in data:\n",
    "    print(i, \":\", key, \",\", dict1[key])\n",
    "print()"
   ]
  },
  {
   "cell_type": "code",
   "execution_count": 10,
   "id": "infinite-ecuador",
   "metadata": {},
   "outputs": [
    {
     "name": "stdout",
     "output_type": "stream",
     "text": [
      "0 : 재\n",
      "1 : 미\n",
      "2 : 있\n",
      "3 : 는\n",
      "4 :  \n",
      "5 : 파\n",
      "6 : 이\n",
      "7 : 썬\n",
      "\n"
     ]
    }
   ],
   "source": [
    "data = enumerate(\"재미있는 파이썬\")\n",
    "for i, value in data:\n",
    "    print(i, \":\", value)\n",
    "print()"
   ]
  }
 ],
 "metadata": {
  "kernelspec": {
   "display_name": "Python 3",
   "language": "python",
   "name": "python3"
  },
  "language_info": {
   "codemirror_mode": {
    "name": "ipython",
    "version": 3
   },
   "file_extension": ".py",
   "mimetype": "text/x-python",
   "name": "python",
   "nbconvert_exporter": "python",
   "pygments_lexer": "ipython3",
   "version": "3.7.9"
  }
 },
 "nbformat": 4,
 "nbformat_minor": 5
}
